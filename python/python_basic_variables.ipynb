{
 "cells": [
  {
   "cell_type": "code",
   "execution_count": 1,
   "metadata": {},
   "outputs": [
    {
     "name": "stdout",
     "output_type": "stream",
     "text": [
      "10\n",
      "949.99\n"
     ]
    }
   ],
   "source": [
    "item = \"computer\"    # \"computer\" 라는 문자열을, item 이라는 변수에 할당 했습니다. \n",
    "item_qty = 10        # 10 이라는 정수를, item_qty 라는 변수에 할당 했습니다. \n",
    "item_value = 949.99  # 949.99 라는 실수를, item_value 라는 변수에 할당 했습니다. \n",
    "\n",
    "# 위의 할당된 변수들은 할당과 동시에 생성되었습니다. \n",
    "# 이렇게 값이 할당되고 생성된 변수들은, 아래와 같이 다른 함수를 사용하여 참조되고, 호출되어 \n",
    "# 값이 불려와 질수 있습니다 \n",
    "\n",
    "print(item_qty) \n",
    "print(item_value) \n"
   ]
  },
  {
   "cell_type": "code",
   "execution_count": 2,
   "metadata": {},
   "outputs": [
    {
     "ename": "SyntaxError",
     "evalue": "cannot assign to literal (<ipython-input-2-1f329a134e9c>, line 2)",
     "output_type": "error",
     "traceback": [
      "\u001b[0;36m  File \u001b[0;32m\"<ipython-input-2-1f329a134e9c>\"\u001b[0;36m, line \u001b[0;32m2\u001b[0m\n\u001b[0;31m    12 = a    # 에러가 납니다\u001b[0m\n\u001b[0m    ^\u001b[0m\n\u001b[0;31mSyntaxError\u001b[0m\u001b[0;31m:\u001b[0m cannot assign to literal\n"
     ]
    }
   ],
   "source": [
    "a = 12 \n",
    "12 = a    # 에러가 납니다 "
   ]
  },
  {
   "cell_type": "code",
   "execution_count": 3,
   "metadata": {},
   "outputs": [
    {
     "name": "stdout",
     "output_type": "stream",
     "text": [
      "1\n",
      "1\n",
      "1\n",
      "1\n",
      "2\n",
      "abcd\n"
     ]
    }
   ],
   "source": [
    "# 다수의 변수에 하나의 값을 동시에 할당할수 있습니다. \n",
    "\n",
    "x = y = z = 1 \n",
    "print(x) \n",
    "print(y)\n",
    "print(z)\n",
    "\n",
    "# x, y, z 변수는 모두 1로 할당이 됩니다 \n",
    "\n",
    "# 아래에는, 다른 값들을, 다른 변수들에 동시에 할당해보는 예시 입니다. \n",
    "x, y, z = 1, 2, \"abcd\" \n",
    "print(x)\n",
    "print(y)\n",
    "print(z) "
   ]
  },
  {
   "cell_type": "code",
   "execution_count": 4,
   "metadata": {},
   "outputs": [
    {
     "name": "stdout",
     "output_type": "stream",
     "text": [
      "100\n",
      "Django\n"
     ]
    }
   ],
   "source": [
    "# 새로운 값을 변수에 할당하는것으로, 같은 변수명을 재사용 할수 있습니다. \n",
    "x = 100 \n",
    "print(x) \n",
    "\n",
    "# x 에 'Django' 라는 문자열을 새로운 값으로 할당 합니다 \n",
    "x = 'Django' \n",
    "print(x) \n"
   ]
  },
  {
   "cell_type": "code",
   "execution_count": 5,
   "metadata": {},
   "outputs": [
    {
     "name": "stdout",
     "output_type": "stream",
     "text": [
      "10\n",
      "20\n",
      "20\n",
      "10\n"
     ]
    }
   ],
   "source": [
    "# 변수 바꾸기 \n",
    "x = 10 \n",
    "y = 20 \n",
    "print(x)\n",
    "print(y)\n",
    "\n",
    "x, y = y, x  # 변수의 값을 바꿉니다 \n",
    "print(x)     # x 는 20이 되고 \n",
    "print(y)     # y 는 10이 됩니다 "
   ]
  },
  {
   "cell_type": "code",
   "execution_count": 7,
   "metadata": {},
   "outputs": [
    {
     "name": "stdout",
     "output_type": "stream",
     "text": [
      "func1 안에서 language1 =  PHP\n",
      "func2 안에서 language1 =  Python\n"
     ]
    }
   ],
   "source": [
    "language1 = \"Python\"\n",
    "\n",
    "def func1():\n",
    "    language1 = \"PHP\"\n",
    "    print(\"func1 안에서 language1 = \", language1)\n",
    "    \n",
    "def func2():\n",
    "    print(\"func2 안에서 language1 = \", language1)\n",
    "   \n",
    "\n",
    "func1()   # 함수안에 정의된 로컬 변수, language1 값을 사용 \n",
    "func2()   # 함수안에 정의된 로컬 변수가 없기 때문에, language1 이라는 global 변수를 사용 "
   ]
  },
  {
   "cell_type": "code",
   "execution_count": 9,
   "metadata": {},
   "outputs": [
    {
     "name": "stdout",
     "output_type": "stream",
     "text": [
      "func1 안에서 language1 =  PHP\n",
      "func2 안에서 language1 =  PHP\n"
     ]
    }
   ],
   "source": [
    "\n",
    "language1 = \"Python\"\n",
    "\n",
    "def func1():\n",
    "    global language1\n",
    "    language1 = \"PHP\"\n",
    "    print(\"func1 안에서 language1 = \", language1)\n",
    "    \n",
    "def func2():\n",
    "    print(\"func2 안에서 language1 = \", language1)\n",
    "   \n",
    "\n",
    "func1()   # 함수안에 정의된 로컬 변수, language1 값을 사용, 이 값은 global 이 됨 \n",
    "func2()   # global 값이 된 language1 값을 사용함 "
   ]
  },
  {
   "cell_type": "code",
   "execution_count": null,
   "metadata": {},
   "outputs": [],
   "source": []
  }
 ],
 "metadata": {
  "kernelspec": {
   "display_name": "Python 3",
   "language": "python",
   "name": "python3"
  },
  "language_info": {
   "codemirror_mode": {
    "name": "ipython",
    "version": 3
   },
   "file_extension": ".py",
   "mimetype": "text/x-python",
   "name": "python",
   "nbconvert_exporter": "python",
   "pygments_lexer": "ipython3",
   "version": "3.8.0"
  }
 },
 "nbformat": 4,
 "nbformat_minor": 4
}
