{
 "cells": [
  {
   "cell_type": "code",
   "execution_count": 3,
   "metadata": {},
   "outputs": [
    {
     "name": "stdout",
     "output_type": "stream",
     "text": [
      "Hey! Good day mate!\n",
      "Hey! Good day mate!\n",
      "Hey! Good day mate!\n",
      "Hey! Good day mate!\n",
      "Hey! Good day mate!\n"
     ]
    }
   ],
   "source": [
    "text = \"Good day mate!\"\n",
    "print(\"Hey!\", text)\n",
    "print(\"Hey! \" + text)\n",
    "print(\"Hey! %s\" % text)\n",
    "print(f'Hey! {text}')\n",
    "print('Hey! {}'.format(text))"
   ]
  },
  {
   "cell_type": "code",
   "execution_count": 4,
   "metadata": {},
   "outputs": [
    {
     "name": "stdout",
     "output_type": "stream",
     "text": [
      "파이썬은 매우 간단합니다!\n",
      "파이썬은 매우 간단합니다!\n",
      "파이썬은 매우 간단합니다!\n",
      "파이썬은 매우 간단합니다!\n"
     ]
    }
   ],
   "source": [
    "print('파이썬은 매우 간단합니다!') \n",
    "print(\"파이썬은 매우 간단합니다!\")\n",
    "print('''파이썬은 매우 간단합니다!''')\n",
    "print(\"\"\"파이썬은 매우 간단합니다!\"\"\")"
   ]
  },
  {
   "cell_type": "code",
   "execution_count": 5,
   "metadata": {},
   "outputs": [
    {
     "ename": "SyntaxError",
     "evalue": "invalid syntax (<ipython-input-5-6d46f699ef02>, line 1)",
     "output_type": "error",
     "traceback": [
      "\u001b[0;36m  File \u001b[0;32m\"<ipython-input-5-6d46f699ef02>\"\u001b[0;36m, line \u001b[0;32m1\u001b[0m\n\u001b[0;31m    print('파이썬은 '매우' 간단합니다!')  # 에러 발생\u001b[0m\n\u001b[0m                 ^\u001b[0m\n\u001b[0;31mSyntaxError\u001b[0m\u001b[0;31m:\u001b[0m invalid syntax\n"
     ]
    }
   ],
   "source": [
    "print('파이썬은 '매우' 간단합니다!')  # 에러 발생 \n",
    "print(\"파이썬은 \"매우\" 간단합니다!\")  # 에러 발생 "
   ]
  },
  {
   "cell_type": "code",
   "execution_count": 6,
   "metadata": {},
   "outputs": [
    {
     "name": "stdout",
     "output_type": "stream",
     "text": [
      "Wel come\n"
     ]
    }
   ],
   "source": [
    "str1 = 'Wel'\n",
    "print(str1, 'come')"
   ]
  },
  {
   "cell_type": "code",
   "execution_count": 7,
   "metadata": {},
   "outputs": [
    {
     "name": "stdout",
     "output_type": "stream",
     "text": [
      "Welcome Python\n"
     ]
    }
   ],
   "source": [
    "str1 = 'Welcome'\n",
    "str2 = 'Python' \n",
    "print(str1, str2)"
   ]
  },
  {
   "cell_type": "code",
   "execution_count": 8,
   "metadata": {},
   "outputs": [
    {
     "name": "stdout",
     "output_type": "stream",
     "text": [
      "WelcomePython:\n"
     ]
    }
   ],
   "source": [
    "str1 = 'Python'\n",
    "str2 = ':' \n",
    "print('Welcome' + str1 + str2)"
   ]
  },
  {
   "cell_type": "code",
   "execution_count": 9,
   "metadata": {},
   "outputs": [
    {
     "name": "stdout",
     "output_type": "stream",
     "text": [
      "Welcome Python\n"
     ]
    }
   ],
   "source": [
    "str1 = 'Python'\n",
    "print(\"Welcome %s\" % str1)"
   ]
  },
  {
   "cell_type": "code",
   "execution_count": 10,
   "metadata": {},
   "outputs": [
    {
     "name": "stdout",
     "output_type": "stream",
     "text": [
      "Actual Number = 15\n",
      "Exponential equivalent of the number = 1.500000e+01\n",
      "Float of the number = 15.000000\n",
      "Octal equivalent of the number = 17\n",
      "Octal equivalent of the number = f\n"
     ]
    }
   ],
   "source": [
    "# 정수를 사용하는 경우 \n",
    "print(\"Actual Number = %d\" %15)\n",
    "\n",
    "# 지수를 사용 \n",
    "print(\"Exponential equivalent of the number = %e\" %15) \n",
    "\n",
    "# 실수를 사용 \n",
    "print(\"Float of the number = %f\" %15) \n",
    "\n",
    "# 8진수 사용 \n",
    "print(\"Octal equivalent of the number = %o\" %15) \n",
    "\n",
    "# 16진수 사용 \n",
    "print(\"Octal equivalent of the number = %x\" %15)"
   ]
  },
  {
   "cell_type": "code",
   "execution_count": 11,
   "metadata": {},
   "outputs": [
    {
     "name": "stdout",
     "output_type": "stream",
     "text": [
      "Python World :\n"
     ]
    }
   ],
   "source": [
    "str1 = 'World' \n",
    "str2 = ':' \n",
    "print(\"Python %s %s\" % (str1, str2)) "
   ]
  },
  {
   "cell_type": "code",
   "execution_count": 12,
   "metadata": {},
   "outputs": [
    {
     "name": "stdout",
     "output_type": "stream",
     "text": [
      "Welcome to %Python language\n"
     ]
    }
   ],
   "source": [
    "# %는 %d 타입 단어를 위해 사용된다 \n",
    "print(\"Welcome to %%Python %s\" %'language')"
   ]
  },
  {
   "cell_type": "code",
   "execution_count": 13,
   "metadata": {},
   "outputs": [
    {
     "name": "stdout",
     "output_type": "stream",
     "text": [
      "Sunday\n",
      "Monday\n",
      "Tuesday\n",
      "Wednesday\n",
      "Thursday\n",
      "Friday\n",
      "Saturday\n"
     ]
    }
   ],
   "source": [
    "# \\n 은 줄바꿈을 위해서 사용됩니다 \n",
    "print(\"Sunday\\nMonday\\nTuesday\\nWednesday\\nThursday\\nFriday\\nSaturday\")"
   ]
  },
  {
   "cell_type": "code",
   "execution_count": 14,
   "metadata": {},
   "outputs": [
    {
     "name": "stdout",
     "output_type": "stream",
     "text": [
      "djangodjangodjangodjangodjango\n"
     ]
    }
   ],
   "source": [
    "# 어떤 단어를 여러번 출력하고 싶을때 \n",
    "print('django' * 5)"
   ]
  },
  {
   "cell_type": "code",
   "execution_count": 16,
   "metadata": {},
   "outputs": [
    {
     "name": "stdout",
     "output_type": "stream",
     "text": [
      "\n",
      "Language:\n",
      "\t1 Python\n",
      "\t2 Java\n",
      "\t3 JavaScript\n"
     ]
    }
   ],
   "source": [
    "# \\t 는 tab키를 위해 사용됩니다 \n",
    "print(\"\"\"\n",
    "Language:\n",
    "\\t1 Python\n",
    "\\t2 Java\\n\\t3 JavaScript\"\"\")"
   ]
  },
  {
   "cell_type": "code",
   "execution_count": 17,
   "metadata": {},
   "outputs": [
    {
     "name": "stdout",
     "output_type": "stream",
     "text": [
      "5.123457\n"
     ]
    }
   ],
   "source": [
    "# Precision width and Field Width \n",
    "# 6번째 소수점까지 반환 됩니다. \n",
    "# 이 소숫점 자리수를 지정하기 위해서는, %(fieldwidth).(precisionwidth)f 가 사용됩니다. \n",
    "print(\"%f\" % 5.1234567890)"
   ]
  },
  {
   "cell_type": "code",
   "execution_count": 18,
   "metadata": {},
   "outputs": [
    {
     "name": "stdout",
     "output_type": "stream",
     "text": [
      "5.12346\n"
     ]
    }
   ],
   "source": [
    "# 소수점 5자리까지만 반환 하고 싶을 경우 \n",
    "print(\"%.5f\" % 5.1234567890)"
   ]
  },
  {
   "cell_type": "code",
   "execution_count": 19,
   "metadata": {},
   "outputs": [
    {
     "name": "stdout",
     "output_type": "stream",
     "text": [
      "  5.12346\n"
     ]
    }
   ],
   "source": [
    "# 만약 field width 가 필요 이상으로 지정되어 있을경우, \n",
    "# 데이터 오른쪽은 특정 값쪽으로 스스로 조정 됩니다. \n",
    "print(\"%9.5f\" % 5.1234567890)"
   ]
  },
  {
   "cell_type": "code",
   "execution_count": 20,
   "metadata": {},
   "outputs": [
    {
     "name": "stdout",
     "output_type": "stream",
     "text": [
      "000000005.12346\n"
     ]
    }
   ],
   "source": [
    "# 0을 추가하여, padding 값을 0 으로 만들수 있습니다. \n",
    "print(\"%015.5f\" % 5.1234567890)"
   ]
  },
  {
   "cell_type": "code",
   "execution_count": 21,
   "metadata": {},
   "outputs": [
    {
     "name": "stdout",
     "output_type": "stream",
     "text": [
      " 5.123457\n",
      "-5.123457\n"
     ]
    }
   ],
   "source": [
    "# 올바른 정렬을 위해 필드 너비에 공백을 비워 두어 음수를 사용할 때 적절한 정렬이 유지됩니다.\n",
    "print(\"% 9f\" % 5.1234567890)\n",
    "print(\"% 9f\" % -5.1234567890)"
   ]
  },
  {
   "cell_type": "code",
   "execution_count": null,
   "metadata": {},
   "outputs": [],
   "source": []
  }
 ],
 "metadata": {
  "kernelspec": {
   "display_name": "Python 3",
   "language": "python",
   "name": "python3"
  },
  "language_info": {
   "codemirror_mode": {
    "name": "ipython",
    "version": 3
   },
   "file_extension": ".py",
   "mimetype": "text/x-python",
   "name": "python",
   "nbconvert_exporter": "python",
   "pygments_lexer": "ipython3",
   "version": "3.8.0"
  }
 },
 "nbformat": 4,
 "nbformat_minor": 4
}
