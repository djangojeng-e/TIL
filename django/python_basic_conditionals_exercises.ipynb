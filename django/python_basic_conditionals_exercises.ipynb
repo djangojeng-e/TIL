{
 "cells": [
  {
   "cell_type": "markdown",
   "metadata": {},
   "source": [
    "1. 1500 과 2700 (둘다 포함) 사이의 숫자들중 7 과 5 의 배수를 찾는 파이썬 프로그램을 작성하세요. "
   ]
  },
  {
   "cell_type": "code",
   "execution_count": 1,
   "metadata": {},
   "outputs": [
    {
     "name": "stdout",
     "output_type": "stream",
     "text": [
      "1505\n",
      "1540\n",
      "1575\n",
      "1610\n",
      "1645\n",
      "1680\n",
      "1715\n",
      "1750\n",
      "1785\n",
      "1820\n",
      "1855\n",
      "1890\n",
      "1925\n",
      "1960\n",
      "1995\n",
      "2030\n",
      "2065\n",
      "2100\n",
      "2135\n",
      "2170\n",
      "2205\n",
      "2240\n",
      "2275\n",
      "2310\n",
      "2345\n",
      "2380\n",
      "2415\n",
      "2450\n",
      "2485\n",
      "2520\n",
      "2555\n",
      "2590\n",
      "2625\n",
      "2660\n",
      "2695\n"
     ]
    }
   ],
   "source": [
    "for i in range(1500, 2701):\n",
    "    if i % 7 == 0 and i % 5 == 0:\n",
    "        print(i)"
   ]
  },
  {
   "cell_type": "markdown",
   "metadata": {},
   "source": [
    "2. 온도를 celsius 에서 fahrenheit 로 전환하는 파이썬 프로그램을 작성하세요 \n",
    "c/5 = f - 32 / 9 \n",
    "c = temperature in celsius \n",
    "f = temperature in fahrenheit"
   ]
  },
  {
   "cell_type": "code",
   "execution_count": 2,
   "metadata": {},
   "outputs": [
    {
     "name": "stdout",
     "output_type": "stream",
     "text": [
      "Celsius 온도를 입력하세요22\n",
      "7.955555555555556\n"
     ]
    }
   ],
   "source": [
    "temperature_in_celsius = int(input(\"Celsius 온도를 입력하세요\"))\n",
    "temperature_in_fahrenheit = temperature_in_celsius / 5 + (32 / 9)\n",
    "print(temperature_in_fahrenheit)"
   ]
  },
  {
   "cell_type": "markdown",
   "metadata": {},
   "source": [
    "3. 1 과 9 사의의 숫자를 맞추는 파이썬 프로그램을 작성하세요. 사용자가 틀리면, 맞을때까지 프롬프트 창을 띄우고, 입력한 숫자가 맞으면, \"잘 맞추셧습니다!' 라는 메시지를 사용자가 보게하고, 프로그램을 종료합니다. "
   ]
  },
  {
   "cell_type": "code",
   "execution_count": 3,
   "metadata": {},
   "outputs": [
    {
     "name": "stdout",
     "output_type": "stream",
     "text": [
      "Guess a number between 1 and 105\n",
      "Guess a number between 1 and 106\n",
      "Guess a number between 1 and 107\n",
      "Guess a number between 1 and 108\n",
      "Guess a number between 1 and 101\n",
      "Guess a number between 1 and 102\n",
      "Guess a number between 1 and 103\n",
      "잘 맞추셧습니다!\n"
     ]
    }
   ],
   "source": [
    "import random \n",
    "target_number = random.randint(1, 10)\n",
    "guess_number = 0 \n",
    "while target_number != guess_number:\n",
    "    guess_number = int(input('Guess a number between 1 and 10'))\n",
    "print('잘 맞추셧습니다!')\n"
   ]
  },
  {
   "cell_type": "raw",
   "metadata": {},
   "source": [
    "4. 아래 페턴을 만드는 파이썬 프로그램을 작성하세요. \n",
    "\n",
    "* \n",
    "* * \n",
    "* * * \n",
    "* * * * \n",
    "* * * * * \n",
    "* * * * \n",
    "* * * \n",
    "* * \n",
    "*"
   ]
  },
  {
   "cell_type": "code",
   "execution_count": 4,
   "metadata": {},
   "outputs": [
    {
     "name": "stdout",
     "output_type": "stream",
     "text": [
      "\n",
      "* \n",
      "* * \n",
      "* * * \n",
      "* * * * \n",
      "* * * * * \n",
      "* * * * \n",
      "* * * \n",
      "* * \n",
      "* \n"
     ]
    }
   ],
   "source": [
    "n = 5 \n",
    "for i in range(n):\n",
    "    for j in range(i):\n",
    "        print('* ', end=\"\")\n",
    "    print('')\n",
    "\n",
    "for i in range(n, 0, -1):\n",
    "    for j in range(i):\n",
    "        print('* ', end=\"\")\n",
    "    print('')"
   ]
  },
  {
   "cell_type": "markdown",
   "metadata": {},
   "source": [
    "5. 사용자에게 단어를 입력받고, 단어의 글자를 거꾸로 하는 파이썬 프로그램을 작성하세요 "
   ]
  },
  {
   "cell_type": "code",
   "execution_count": 6,
   "metadata": {},
   "outputs": [
    {
     "name": "stdout",
     "output_type": "stream",
     "text": [
      "단어를 입력하세요banana\n",
      "a\n",
      "\n",
      "n\n",
      "\n",
      "a\n",
      "\n",
      "n\n",
      "\n",
      "a\n",
      "\n",
      "b\n",
      "\n"
     ]
    }
   ],
   "source": [
    "user_string = input(\"단어를 입력하세요\")\n",
    "for i in range(len(user_string) - 1, -1, -1):\n",
    "    print(user_string[i], end=\"\")\n",
    "    print(\"\\n\")"
   ]
  },
  {
   "cell_type": "markdown",
   "metadata": {},
   "source": [
    "6. 짝수와 홀수의 갯수를 세어주는 파이썬 프로그램을 작성하세요 \n",
    "sample_numbers = (1,2,3,4,5,6,7,8,9)\n",
    "짝수 갯수 : 5 \n",
    "홀수 갯수 : 4 "
   ]
  },
  {
   "cell_type": "code",
   "execution_count": 7,
   "metadata": {},
   "outputs": [
    {
     "name": "stdout",
     "output_type": "stream",
     "text": [
      "짝수갯수 : 4\n",
      "홀수갯수 : 5\n"
     ]
    }
   ],
   "source": [
    "numbers = (1, 2, 3, 4, 5, 6, 7, 8, 9)\n",
    "even_number_counts = 0\n",
    "odd_number_counts = 0\n",
    "for nums in numbers:\n",
    "    if nums % 2 == 0:\n",
    "        even_number_counts += 1 \n",
    "    else:\n",
    "        odd_number_counts += 1 \n",
    "print(f'짝수갯수 : {even_number_counts}')\n",
    "print(f'홀수갯수 : {odd_number_counts}')"
   ]
  },
  {
   "cell_type": "markdown",
   "metadata": {},
   "source": [
    "7. 0 부터 6 사이에 3 과 6을 제외한 모든 숫자를 출력하는 파이썬 프로그램을 작성하세요 "
   ]
  },
  {
   "cell_type": "code",
   "execution_count": 8,
   "metadata": {},
   "outputs": [
    {
     "name": "stdout",
     "output_type": "stream",
     "text": [
      "0\n",
      "1\n",
      "2\n",
      "4\n",
      "5\n"
     ]
    }
   ],
   "source": [
    "for i in range(0, 7):\n",
    "    if i == 3 or i == 6:\n",
    "        continue \n",
    "    else: \n",
    "        print(i)"
   ]
  },
  {
   "cell_type": "markdown",
   "metadata": {},
   "source": [
    "8. 0 부터 50 사이의 Fibonacci 수열을 구하는 파이썬 프로그램을 작성하세요 "
   ]
  },
  {
   "cell_type": "code",
   "execution_count": 10,
   "metadata": {},
   "outputs": [
    {
     "name": "stdout",
     "output_type": "stream",
     "text": [
      "숫자를 입력하세요50\n",
      "Fibonacci sequence:\n",
      "0\n",
      "1\n",
      "1\n",
      "2\n",
      "3\n",
      "5\n",
      "8\n",
      "13\n",
      "21\n",
      "34\n",
      "55\n",
      "89\n",
      "144\n",
      "233\n",
      "377\n",
      "610\n",
      "987\n",
      "1597\n",
      "2584\n",
      "4181\n",
      "6765\n",
      "10946\n",
      "17711\n",
      "28657\n",
      "46368\n",
      "75025\n",
      "121393\n",
      "196418\n",
      "317811\n",
      "514229\n",
      "832040\n",
      "1346269\n",
      "2178309\n",
      "3524578\n",
      "5702887\n",
      "9227465\n",
      "14930352\n",
      "24157817\n",
      "39088169\n",
      "63245986\n",
      "102334155\n",
      "165580141\n",
      "267914296\n",
      "433494437\n",
      "701408733\n",
      "1134903170\n",
      "1836311903\n",
      "2971215073\n",
      "4807526976\n",
      "7778742049\n"
     ]
    }
   ],
   "source": [
    "# Fibonacci 수열은, \n",
    "# 0, 1, 1, 2, 3, 5, 8, 13, 21, ... \n",
    "nterms = int(input(\"숫자를 입력하세요\"))\n",
    "\n",
    "# 첫번째 두개 \n",
    "n1, n2 = 0, 1 \n",
    "count = 0 \n",
    "\n",
    "if nterms <= 0:\n",
    "    print(\"정수를 입력하세요\")\n",
    "elif nterms == 1:\n",
    "    print(\"피보나치 수열은\", nterms)\n",
    "    print(n1)\n",
    "else:\n",
    "    print(\"Fibonacci sequence:\")\n",
    "    while count < nterms:\n",
    "        print(n1)\n",
    "        nth = n1 + n2 \n",
    "        # update values \n",
    "        n1 = n2 \n",
    "        n2 = nth \n",
    "        count += 1 \n",
    "    "
   ]
  },
  {
   "cell_type": "markdown",
   "metadata": {},
   "source": [
    "9. 패스워드의 유효성을 검사하는 파이썬 프로그램을 작성하세요 \n",
    "\n",
    "> 적어도 1글짜는 [a-z] 그리고 한글자는 [A-Z] 사이 \n",
    "> \n",
    "적어도 1글자는 [0-9] 사이 \n",
    "> \n",
    "적어도 1문자는 [$#@]  \n",
    "> \n",
    "최소 길이 6 케릭터 \n",
    "> \n",
    "최대 길이 16 케릭터 "
   ]
  },
  {
   "cell_type": "code",
   "execution_count": null,
   "metadata": {},
   "outputs": [],
   "source": [
    "# 정규표현식을 사용 \n",
    "import re \n",
    "p = input(\"input your password\")\n",
    "x = True \n",
    "while x: \n",
    "    if (len(p)<6 or len(p)>12):\n",
    "        break\n",
    "    elif not re.search(\"[a-z]\", p):\n",
    "        break\n",
    "    elif not re.search(\"[0-9]\", p):\n",
    "        break\n",
    "    elif not re.search(\"[A-Z]\", p):\n",
    "        break\n",
    "    elif not re.search(\"[$#@]\", p):\n",
    "        break\n",
    "    elif re.search(\"\\s\", p):\n",
    "        break\n",
    "    else:\n",
    "        print(\"Valid Password\")\n",
    "        x=False \n",
    "        break \n",
    "\n",
    "if x:\n",
    "    print(\"Not a valid Password\")"
   ]
  },
  {
   "cell_type": "markdown",
   "metadata": {},
   "source": []
  },
  {
   "cell_type": "markdown",
   "metadata": {},
   "source": []
  },
  {
   "cell_type": "code",
   "execution_count": null,
   "metadata": {},
   "outputs": [],
   "source": []
  },
  {
   "cell_type": "code",
   "execution_count": null,
   "metadata": {},
   "outputs": [],
   "source": []
  },
  {
   "cell_type": "code",
   "execution_count": null,
   "metadata": {},
   "outputs": [],
   "source": []
  },
  {
   "cell_type": "code",
   "execution_count": null,
   "metadata": {},
   "outputs": [],
   "source": []
  },
  {
   "cell_type": "code",
   "execution_count": null,
   "metadata": {},
   "outputs": [],
   "source": []
  },
  {
   "cell_type": "code",
   "execution_count": null,
   "metadata": {},
   "outputs": [],
   "source": []
  },
  {
   "cell_type": "code",
   "execution_count": null,
   "metadata": {},
   "outputs": [],
   "source": []
  },
  {
   "cell_type": "code",
   "execution_count": null,
   "metadata": {},
   "outputs": [],
   "source": []
  },
  {
   "cell_type": "code",
   "execution_count": null,
   "metadata": {},
   "outputs": [],
   "source": []
  },
  {
   "cell_type": "code",
   "execution_count": null,
   "metadata": {},
   "outputs": [],
   "source": []
  },
  {
   "cell_type": "code",
   "execution_count": null,
   "metadata": {},
   "outputs": [],
   "source": []
  },
  {
   "cell_type": "code",
   "execution_count": null,
   "metadata": {},
   "outputs": [],
   "source": []
  },
  {
   "cell_type": "code",
   "execution_count": null,
   "metadata": {},
   "outputs": [],
   "source": []
  },
  {
   "cell_type": "code",
   "execution_count": null,
   "metadata": {},
   "outputs": [],
   "source": []
  }
 ],
 "metadata": {
  "kernelspec": {
   "display_name": "Python 3",
   "language": "python",
   "name": "python3"
  },
  "language_info": {
   "codemirror_mode": {
    "name": "ipython",
    "version": 3
   },
   "file_extension": ".py",
   "mimetype": "text/x-python",
   "name": "python",
   "nbconvert_exporter": "python",
   "pygments_lexer": "ipython3",
   "version": "3.7.4"
  }
 },
 "nbformat": 4,
 "nbformat_minor": 2
}
