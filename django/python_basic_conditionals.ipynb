{
 "cells": [
  {
   "cell_type": "code",
   "execution_count": 1,
   "metadata": {},
   "outputs": [
    {
     "name": "stdout",
     "output_type": "stream",
     "text": [
      "장가를 갈수 있다.\n"
     ]
    }
   ],
   "source": [
    "# if, for, while 문 \n",
    "# if 만약 ~ 이면, ~ 해라 \n",
    "asset = 3000000000\n",
    "if asset >= 1000000000:\n",
    "    print('장가를 갈수 있다.')\n",
    "else:\n",
    "    print('장가 가기 어렵다')"
   ]
  },
  {
   "cell_type": "code",
   "execution_count": 2,
   "metadata": {},
   "outputs": [
    {
     "name": "stdout",
     "output_type": "stream",
     "text": [
      "200\n"
     ]
    }
   ],
   "source": [
    "# 여러가지 조건이 있는 if \n",
    "a = 2 \n",
    "if a == 1:\n",
    "    print(100)\n",
    "else:\n",
    "    if a == 2:\n",
    "        print(200)\n",
    "    else:\n",
    "        if a == 3:\n",
    "            print(300)\n",
    "        else:\n",
    "            print(0)\n",
    "        "
   ]
  },
  {
   "cell_type": "code",
   "execution_count": 4,
   "metadata": {},
   "outputs": [
    {
     "name": "stdout",
     "output_type": "stream",
     "text": [
      "200\n"
     ]
    }
   ],
   "source": [
    "# elif 를 사용하여, 중첩되는 코드를 간편화 함 \n",
    "a = 2 \n",
    "if a == 1:\n",
    "    print(100)\n",
    "elif a == 2:\n",
    "    print(200)\n",
    "elif a == 3:\n",
    "    print(300)\n",
    "else:\n",
    "    print(0)"
   ]
  },
  {
   "cell_type": "code",
   "execution_count": 5,
   "metadata": {},
   "outputs": [
    {
     "name": "stdout",
     "output_type": "stream",
     "text": [
      "리스트1의 요소 0\n",
      "리스트1의 요소 1\n",
      "리스트1의 요소 2\n",
      "리스트1의 요소 3\n",
      "리스트1의 요소 4\n"
     ]
    }
   ],
   "source": [
    "# for 문은 조건문1이 아니라 반복문이라고 불리운다. \n",
    "# 반복적인 작업을 수행할수 있다. (iterable 객체) \n",
    "list1 = [0, 1, 2, 3, 4]\n",
    "for value in list1:\n",
    "    print(\"리스트1의 요소\", value)\n",
    "    "
   ]
  },
  {
   "cell_type": "code",
   "execution_count": 7,
   "metadata": {},
   "outputs": [
    {
     "name": "stdout",
     "output_type": "stream",
     "text": [
      "range(5) 0\n",
      "range(5) 1\n",
      "range(5) 2\n",
      "range(5) 3\n",
      "range(5) 4\n"
     ]
    }
   ],
   "source": [
    "for value in range(5):\n",
    "    print(\"range(5)\", value)"
   ]
  },
  {
   "cell_type": "code",
   "execution_count": 8,
   "metadata": {},
   "outputs": [],
   "source": [
    "# 대표적인 iterable 객체로 리스트, 튜플, 집합, 문자열 등이 있다. "
   ]
  },
  {
   "cell_type": "code",
   "execution_count": 9,
   "metadata": {},
   "outputs": [
    {
     "name": "stdout",
     "output_type": "stream",
     "text": [
      "현재 value : 3\n",
      "현재 value : 2\n"
     ]
    }
   ],
   "source": [
    "# while 문은, if 문과 for 문을 함께 사용하는것이라고 간단하게 볼수 있다. \n",
    "# 특정 조건이 만족하는 동안만 반복하게 하는 구문이다. \n",
    "value = 3\n",
    "while value > 1:\n",
    "    print(\"현재 value :\", value)\n",
    "    value = value - 1 \n",
    "    "
   ]
  },
  {
   "cell_type": "code",
   "execution_count": 10,
   "metadata": {},
   "outputs": [],
   "source": [
    "# while 문안의 조건이 항상 참이라면, 내부의 코드가 무한대로 반복되면서 실행된다. \n",
    "# 이를 무한 루프라고 불른다 "
   ]
  },
  {
   "cell_type": "code",
   "execution_count": 11,
   "metadata": {},
   "outputs": [],
   "source": [
    "# 무한 루프를 방지하기 위해서, 프로그램 내부에 빠져나올 구멍을 만드는것도 중요한 일이다. \n",
    "# 예를들면, break 와 continue 문이 존재하여, 프로그램을 좀더 디테일하게 제어할수 있다. "
   ]
  },
  {
   "cell_type": "code",
   "execution_count": 12,
   "metadata": {},
   "outputs": [],
   "source": [
    "# break 문을 만나면, 현재 반복하는 최상위 반복문을 바로 빠져나가게 된다. \n",
    "# continue 문을 만나면, continue문 이하의 코드를 실행하지 않고, 다시 반복문의 맨 처음으로 돌아간다. \n",
    "# while 문에서 무한루프를 이야기할때, 무한루프를 빠져나오는 해답이 break 인 이유는, \n",
    "# break 문을 만나면, 무한루프라도, 해당 반복문을 빠져나오기 때문이다. "
   ]
  },
  {
   "cell_type": "code",
   "execution_count": 13,
   "metadata": {},
   "outputs": [
    {
     "name": "stdout",
     "output_type": "stream",
     "text": [
      "value 값: 0\n",
      "value 값: 1\n",
      "value 값: 2\n",
      "value 값: 3\n"
     ]
    }
   ],
   "source": [
    "value = 0\n",
    "while True:\n",
    "    print(\"value 값:\", value)\n",
    "    value = value + 1\n",
    "    if value > 3:\n",
    "        break\n",
    "        \n",
    "# 조건식이 항상 참인 무한루프이지만, break 를 만나서 루프가 종료되었다. "
   ]
  },
  {
   "cell_type": "code",
   "execution_count": 14,
   "metadata": {},
   "outputs": [
    {
     "name": "stdout",
     "output_type": "stream",
     "text": [
      "짝수 8\n",
      "짝수 6\n",
      "짝수 4\n",
      "짝수 2\n",
      "짝수 0\n"
     ]
    }
   ],
   "source": [
    "# continue 문은 반복문의 맨 처음으로 돌아가게 하는 기능이 존재한다. \n",
    "value = 10 \n",
    "while value > 0:\n",
    "    value = value - 1\n",
    "    if value % 2 == 0:\n",
    "        print(\"짝수\", value)\n",
    "    else:\n",
    "        continue "
   ]
  },
  {
   "cell_type": "code",
   "execution_count": null,
   "metadata": {},
   "outputs": [],
   "source": []
  }
 ],
 "metadata": {
  "kernelspec": {
   "display_name": "Python 3",
   "language": "python",
   "name": "python3"
  },
  "language_info": {
   "codemirror_mode": {
    "name": "ipython",
    "version": 3
   },
   "file_extension": ".py",
   "mimetype": "text/x-python",
   "name": "python",
   "nbconvert_exporter": "python",
   "pygments_lexer": "ipython3",
   "version": "3.7.4"
  }
 },
 "nbformat": 4,
 "nbformat_minor": 2
}
