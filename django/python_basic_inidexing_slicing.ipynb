{
 "cells": [
  {
   "cell_type": "code",
   "execution_count": 1,
   "metadata": {},
   "outputs": [],
   "source": [
    "# 인덱싱과 슬라이싱 "
   ]
  },
  {
   "cell_type": "code",
   "execution_count": 2,
   "metadata": {},
   "outputs": [
    {
     "data": {
      "text/plain": [
       "'Hello, world!'"
      ]
     },
     "execution_count": 2,
     "metadata": {},
     "output_type": "execute_result"
    }
   ],
   "source": [
    "# 인덱싱 \n",
    "# indexing, 문자열이나 리스트 자료형 등의 자료형에서 특정 위치를 가리키는것을 말함 \n",
    "string = \"Hello, world!\"\n",
    "string"
   ]
  },
  {
   "cell_type": "code",
   "execution_count": 7,
   "metadata": {},
   "outputs": [
    {
     "name": "stdout",
     "output_type": "stream",
     "text": [
      "13\n",
      "0 : H\n",
      "1 : e\n",
      "2 : l\n",
      "3 : l\n",
      "4 : o\n",
      "5 : ,\n",
      "6 :  \n",
      "7 : w\n",
      "8 : o\n",
      "9 : r\n",
      "10 : l\n",
      "11 : d\n",
      "12 : !\n"
     ]
    }
   ],
   "source": [
    "# 문자열에 할당된 index 는 1이 아니라 0 으로 시작한다 \n",
    "print(len(string))\n",
    "for i in range(0, 13):\n",
    "    print(f'{i} : {string[i]}')    "
   ]
  },
  {
   "cell_type": "code",
   "execution_count": 10,
   "metadata": {},
   "outputs": [
    {
     "name": "stdout",
     "output_type": "stream",
     "text": [
      "!\n",
      "d\n",
      "H\n"
     ]
    }
   ],
   "source": [
    "# index 를 음수로 넣어주면, 거꾸로부터 시작한다 \n",
    "# 음수 인덱싱은 0을 고려하지 않는다. \n",
    "print(string[-1])\n",
    "print(string[-2])\n",
    "print(string[-13])"
   ]
  },
  {
   "cell_type": "code",
   "execution_count": 11,
   "metadata": {},
   "outputs": [
    {
     "name": "stdout",
     "output_type": "stream",
     "text": [
      "100\n",
      "200\n",
      "300\n",
      "400\n",
      "500\n"
     ]
    }
   ],
   "source": [
    "# 인덱싱은, 문자열뿐만 아니라. 리스트 자료형에도 사용된다. \n",
    "list1 = [100, 200, 300, 400, 500]\n",
    "print(list1[0])\n",
    "print(list1[1])\n",
    "print(list1[2])\n",
    "print(list1[3])\n",
    "print(list1[4])"
   ]
  },
  {
   "cell_type": "code",
   "execution_count": 12,
   "metadata": {},
   "outputs": [
    {
     "data": {
      "text/plain": [
       "'world'"
      ]
     },
     "execution_count": 12,
     "metadata": {},
     "output_type": "execute_result"
    }
   ],
   "source": [
    "# 슬라이싱 \n",
    "# 인덱싱이 하나의 요소를 지정하는 것이었다면, \n",
    "# 슬라이싱은 특정 범위 안의 요소들을 잘라내는것을 말한다 \n",
    "# string = \"Hello, World!\" 에서, world 만 짤라내 보면, 아래와 같다.\n",
    "# 유의해야할 점은, 슬라이싱의 시작 지점과 끝 지점을 정해줄때, 끝지점에 해당하는 숫자의 바로 직전 요소까지만 슬라이싱 한다는 점이다. \n",
    "string[7:12]"
   ]
  },
  {
   "cell_type": "code",
   "execution_count": 16,
   "metadata": {},
   "outputs": [
    {
     "name": "stdout",
     "output_type": "stream",
     "text": [
      "Hello, world!\n",
      "o, wor\n",
      "o, world!\n",
      "Hello, wor\n"
     ]
    }
   ],
   "source": [
    "# 슬라이싱의 시작지점과 끝지점을 생략할수도 있는데. \n",
    "# 시작 지점을 생략하면, 맨 처음 요소부터 끝 요소 바로 직전 요소까지를 의미하고 \n",
    "# 끝 지점을 생략하면, 시작요소부터 맨 마지막 요소까지를 의미한다 \n",
    "print(string)\n",
    "print(string[4:10])\n",
    "print(string[4:])\n",
    "print(string[:10])"
   ]
  },
  {
   "cell_type": "code",
   "execution_count": 22,
   "metadata": {},
   "outputs": [],
   "source": [
    "# 슬라이싱 예제 \n",
    "input_data = \"Alexandria951212\"\n",
    "first_name = input_data[:10]\n",
    "date_of_birth = input_data[12:]"
   ]
  },
  {
   "cell_type": "code",
   "execution_count": 23,
   "metadata": {},
   "outputs": [
    {
     "name": "stdout",
     "output_type": "stream",
     "text": [
      "Alexandria\n",
      "1212\n"
     ]
    }
   ],
   "source": [
    "print(first_name)\n",
    "print(date_of_birth)"
   ]
  },
  {
   "cell_type": "code",
   "execution_count": 26,
   "metadata": {},
   "outputs": [
    {
     "data": {
      "text/plain": [
       "'Alexandria941212'"
      ]
     },
     "execution_count": 26,
     "metadata": {},
     "output_type": "execute_result"
    }
   ],
   "source": [
    "# 문자열 객체 (objects) 는 할당을 지원하지 않는다. \n",
    "# 수정이 불가능한 객체이다. \n",
    "# Alenxandria951212 대신에 941212로 바꾸어주고 싶다면, \n",
    "new_data = input_data[:11] + '4' + input_data[12:]\n",
    "new_data\n",
    "input_data = new_data\n",
    "input_data"
   ]
  },
  {
   "cell_type": "code",
   "execution_count": null,
   "metadata": {},
   "outputs": [],
   "source": []
  }
 ],
 "metadata": {
  "kernelspec": {
   "display_name": "Python 3",
   "language": "python",
   "name": "python3"
  },
  "language_info": {
   "codemirror_mode": {
    "name": "ipython",
    "version": 3
   },
   "file_extension": ".py",
   "mimetype": "text/x-python",
   "name": "python",
   "nbconvert_exporter": "python",
   "pygments_lexer": "ipython3",
   "version": "3.7.4"
  }
 },
 "nbformat": 4,
 "nbformat_minor": 2
}
