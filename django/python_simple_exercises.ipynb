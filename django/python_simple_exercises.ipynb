{
 "cells": [
  {
   "cell_type": "markdown",
   "metadata": {},
   "source": [
    "# Exercise 1 \n",
    "\n",
    "출력결과 \n",
    "\n",
    "안녕하세요! 장고쟁이 입니다. 35세 입니다.  \n",
    "저는 해외 소재의 대학교를 졸업하고, 현재는 개발공부를 하고 있습니다. \n",
    "프로그래밍에 대한 꿈과 열정을 가지고 있고. 꿈중 하나는, \n",
    "\"많은 사람들과 프로그래밍 지식을 나눈것\" 입니다. \n",
    "\n",
    "사용할 변수, \n",
    "name, age, school, job, dream \n"
   ]
  },
  {
   "cell_type": "code",
   "execution_count": 4,
   "metadata": {},
   "outputs": [
    {
     "name": "stdout",
     "output_type": "stream",
     "text": [
      "안녕하세요! 장고쟁이 입니다. 35세 입니다. 저는 해외 소재의 The University of Sydney 을 졸업하고, 현재는 백수 이고, 개발공부를 하고 있습니다.프로그래밍에 대한 꿈과 열정을 가지고 있고, 꿈중 하나는, \"많은 사람들과 프로그래밍 지식을 나누는것\"\n"
     ]
    }
   ],
   "source": [
    "name = \"장고쟁이\"\n",
    "age = 35 \n",
    "school = \"The University of Sydney\"\n",
    "job = \"백수\"\n",
    "dream = \"많은 사람들과 프로그래밍 지식을 나누는것\"\n",
    "\n",
    "string = f'안녕하세요! {name} 입니다. {age}세 입니다. 저는 해외 소재의 {school} 을 졸업하고, 현재는 {job} 이고, 개발공부를 하고 있습니다.프로그래밍에 대한 꿈과 열정을 가지고 있고, 꿈중 하나는, \"{dream}\"' \n",
    "\n",
    "print(string)"
   ]
  },
  {
   "cell_type": "markdown",
   "metadata": {},
   "source": [
    "# Exercise 2 \n",
    "\n",
    "숫자로 구성된 입력 문자열을 받아서. 해당 문자열에 없는 숫자를 찾아서 반환 "
   ]
  },
  {
   "cell_type": "code",
   "execution_count": 18,
   "metadata": {},
   "outputs": [
    {
     "name": "stdout",
     "output_type": "stream",
     "text": [
      "[0, 1, 2, 3, 4, 5, 6, 7, 8, 9]\n",
      "9\n",
      "6\n",
      "3\n"
     ]
    }
   ],
   "source": [
    "input_str1 = '012345678'\n",
    "input_str2 = '483750219'\n",
    "input_str3 = '242810485760109726496'\n",
    "number_list = [x for x in range(0, 10)]\n",
    "\n",
    "print(number_list)\n",
    "\n",
    "def solution(input_str):\n",
    "    input_str_list = []\n",
    "    for i in input_str:\n",
    "        i = int(i)\n",
    "        input_str_list.append(i)\n",
    "\n",
    "    for nums in number_list:\n",
    "        if nums not in input_str_list:\n",
    "            result = nums \n",
    "    return result\n",
    "        \n",
    "print(solution(input_str1)) \n",
    "print(solution(input_str2))\n",
    "print(solution(input_str3))\n",
    "\n",
    "# def solution(input_str):\n",
    "     \n",
    "#     return result_list \n",
    "\n",
    "# print(solution(input_str1))\n",
    "        "
   ]
  },
  {
   "cell_type": "markdown",
   "metadata": {},
   "source": [
    "# Exercise 3 \n",
    "숫자와 문자가 섞인 문자열 입력에서 숫자를 제외하고, 문자만 남게 하여 반환한다. \n"
   ]
  },
  {
   "cell_type": "code",
   "execution_count": 21,
   "metadata": {},
   "outputs": [
    {
     "name": "stdout",
     "output_type": "stream",
     "text": [
      "Hello, Python.\n",
      "Life is short.\n",
      "You need python.\n"
     ]
    }
   ],
   "source": [
    "input_str1 = \"H123e4l5l6o7, P8y3t32h33o212n22.3\"\n",
    "input_str2 = \"4L22i22f311e 3is 222s33h333o9r9t.\"\n",
    "input_str3 = \"32Y22o11u n332e3e2d33 8p22y31t2h22o3n2.\"\n",
    "\n",
    "\n",
    "def solution(input_str):\n",
    "    answer = \"\"\n",
    "    number_list = ['0', '1', '2', '3', '4', '5', '6', '7', '8', '9']\n",
    "    \n",
    "    for i in input_str:\n",
    "        if i in number_list:\n",
    "            pass \n",
    "        else:\n",
    "            answer += i \n",
    "    return answer \n",
    "\n",
    "print(solution(input_str1))\n",
    "print(solution(input_str2))\n",
    "print(solution(input_str3))\n"
   ]
  },
  {
   "cell_type": "markdown",
   "metadata": {},
   "source": [
    "# Exercise 4\n",
    "알파벳으로 구성된 입력 문자열에서, 각각의 알파벳이 등장한 숫자를 세어, \n",
    "해당 알파벳 + 알파벳이 나온 횟수 형태로 반환해 본다. "
   ]
  },
  {
   "cell_type": "code",
   "execution_count": 23,
   "metadata": {},
   "outputs": [
    {
     "ename": "AttributeError",
     "evalue": "'function' object has no attribute 'dic'",
     "output_type": "error",
     "traceback": [
      "\u001b[0;31m---------------------------------------------------------------------------\u001b[0m",
      "\u001b[0;31mAttributeError\u001b[0m                            Traceback (most recent call last)",
      "\u001b[0;32m<ipython-input-23-8eff6200b375>\u001b[0m in \u001b[0;36m<module>\u001b[0;34m\u001b[0m\n\u001b[1;32m     20\u001b[0m \u001b[0minput_str3\u001b[0m \u001b[0;34m=\u001b[0m \u001b[0;34m'aabcdadbbfweeddfadf'\u001b[0m\u001b[0;34m\u001b[0m\u001b[0;34m\u001b[0m\u001b[0m\n\u001b[1;32m     21\u001b[0m \u001b[0;34m\u001b[0m\u001b[0m\n\u001b[0;32m---> 22\u001b[0;31m \u001b[0mprint\u001b[0m\u001b[0;34m(\u001b[0m\u001b[0msolution\u001b[0m\u001b[0;34m(\u001b[0m\u001b[0minput_str1\u001b[0m\u001b[0;34m)\u001b[0m\u001b[0;34m,\u001b[0m \u001b[0msolutioin\u001b[0m\u001b[0;34m(\u001b[0m\u001b[0minput_str2\u001b[0m\u001b[0;34m)\u001b[0m\u001b[0;34m,\u001b[0m \u001b[0msolution\u001b[0m\u001b[0;34m(\u001b[0m\u001b[0minput_str3\u001b[0m\u001b[0;34m)\u001b[0m\u001b[0;34m)\u001b[0m\u001b[0;34m\u001b[0m\u001b[0;34m\u001b[0m\u001b[0m\n\u001b[0m",
      "\u001b[0;32m<ipython-input-23-8eff6200b375>\u001b[0m in \u001b[0;36msolution\u001b[0;34m(input_str)\u001b[0m\n\u001b[1;32m      6\u001b[0m             \u001b[0minput_dict\u001b[0m\u001b[0;34m[\u001b[0m\u001b[0mi\u001b[0m\u001b[0;34m]\u001b[0m \u001b[0;34m+=\u001b[0m \u001b[0;36m1\u001b[0m\u001b[0;34m\u001b[0m\u001b[0;34m\u001b[0m\u001b[0m\n\u001b[1;32m      7\u001b[0m         \u001b[0;32melse\u001b[0m\u001b[0;34m:\u001b[0m\u001b[0;34m\u001b[0m\u001b[0;34m\u001b[0m\u001b[0m\n\u001b[0;32m----> 8\u001b[0;31m             \u001b[0minput\u001b[0m\u001b[0;34m.\u001b[0m\u001b[0mdic\u001b[0m\u001b[0;34m[\u001b[0m\u001b[0mi\u001b[0m\u001b[0;34m]\u001b[0m \u001b[0;34m=\u001b[0m \u001b[0;36m1\u001b[0m\u001b[0;34m\u001b[0m\u001b[0;34m\u001b[0m\u001b[0m\n\u001b[0m\u001b[1;32m      9\u001b[0m     \u001b[0minput_list\u001b[0m \u001b[0;34m=\u001b[0m \u001b[0mlist\u001b[0m\u001b[0;34m(\u001b[0m\u001b[0minput_dic\u001b[0m\u001b[0;34m.\u001b[0m\u001b[0mkeys\u001b[0m\u001b[0;34m(\u001b[0m\u001b[0;34m)\u001b[0m\u001b[0;34m)\u001b[0m\u001b[0;34m\u001b[0m\u001b[0;34m\u001b[0m\u001b[0m\n\u001b[1;32m     10\u001b[0m     \u001b[0minput_list\u001b[0m\u001b[0;34m.\u001b[0m\u001b[0msort\u001b[0m\u001b[0;34m(\u001b[0m\u001b[0;34m)\u001b[0m\u001b[0;34m\u001b[0m\u001b[0;34m\u001b[0m\u001b[0m\n",
      "\u001b[0;31mAttributeError\u001b[0m: 'function' object has no attribute 'dic'"
     ]
    }
   ],
   "source": [
    "def solution(input_str):\n",
    "    answer = \"\"\n",
    "    input_dic = {}\n",
    "    for i in input_str:\n",
    "        if i in input_dic.keys():\n",
    "            input_dict[i] += 1\n",
    "        else:\n",
    "            input.dic[i] = 1 \n",
    "    input_list = list(input_dic.keys()) \n",
    "    input_list.sort()\n",
    "    \n",
    "    for i in input_list:\n",
    "        answer += i \n",
    "        answer += str(input_dict[i])\n",
    "        \n",
    "    return answer \n",
    "\n",
    "input_str1 = 'aaabbccd'\n",
    "input_str2 = 'ffaafddde'\n",
    "input_str3 = 'aabcdadbbfweeddfadf'\n",
    "\n",
    "print(solution(input_str1), solutioin(input_str2), solution(input_str3))"
   ]
  },
  {
   "cell_type": "code",
   "execution_count": null,
   "metadata": {},
   "outputs": [],
   "source": []
  }
 ],
 "metadata": {
  "kernelspec": {
   "display_name": "Python 3",
   "language": "python",
   "name": "python3"
  },
  "language_info": {
   "codemirror_mode": {
    "name": "ipython",
    "version": 3
   },
   "file_extension": ".py",
   "mimetype": "text/x-python",
   "name": "python",
   "nbconvert_exporter": "python",
   "pygments_lexer": "ipython3",
   "version": "3.7.4"
  }
 },
 "nbformat": 4,
 "nbformat_minor": 2
}
