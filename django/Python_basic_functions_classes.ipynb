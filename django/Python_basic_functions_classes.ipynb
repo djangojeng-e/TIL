{
 "cells": [
  {
   "cell_type": "code",
   "execution_count": 1,
   "metadata": {},
   "outputs": [],
   "source": [
    "# 함수 와 클래스 \n",
    "# function and class \n",
    "\n",
    "# 함수란? \n",
    "# 입력값을 넣으면, 수행하는 기능의 결과로, 출력값이 나오는것 \n",
    "# input 을 함수에 넣으면, input 을 가지고 어떤것을 수행하고, \n",
    "# 수행 작업이 끝난, output 을 출력해준다. \n",
    "# 단순하게 특정 기능을 사용하는것에 대해 반복적인 작업을 단순화 시키려고 사용한다. \n",
    "# 함수로 만들어 놓은 기능들을 필요할때마다 호출하여 사용한다. "
   ]
  },
  {
   "cell_type": "code",
   "execution_count": 4,
   "metadata": {},
   "outputs": [
    {
     "name": "stdout",
     "output_type": "stream",
     "text": [
      "10\n"
     ]
    }
   ],
   "source": [
    "# 함수의 예시 \n",
    "# 3개의 매개 변수를 받아서, 변수들의 합을 반환한다. \n",
    "\n",
    "def addition(a, b, c):    # a, b, c는 parameter 매개변수라고 불른다.\n",
    "    result = a + b + c \n",
    "    return result \n",
    "\n",
    "sum_up = addition(2, 2, 6)   # 2, 2, 6 은 argument 인수라고 불른다. \n",
    "print(sum_up)\n",
    "\n",
    "# 함수가 호출될때, 인수 (arguments) 는 함수에 전달되고, \n",
    "# 함수는 이것을 매개변수 (parameter) 로 받아서, 특정 기능을 수행후 \n",
    "# 결과값을 반환 해 준다. "
   ]
  },
  {
   "cell_type": "code",
   "execution_count": 5,
   "metadata": {},
   "outputs": [],
   "source": [
    "# 함수에서 입력값과 출력값이 항상 존재하는것은 아니다. \n",
    "# 입력값은 존재할수도 존재 하지 않을수도 있다. \n",
    "# 출력값 또한 존재할수도 존재 하지 않을수도 있다. "
   ]
  },
  {
   "cell_type": "code",
   "execution_count": 6,
   "metadata": {},
   "outputs": [
    {
     "name": "stdout",
     "output_type": "stream",
     "text": [
      "13\n"
     ]
    }
   ],
   "source": [
    "# 입력값과 출력값이 모두 존재하는 함수 형태 \n",
    "def function(var1, var2):\n",
    "    result = var1**2\n",
    "    result = result - var2*2\n",
    "    return result\n",
    "\n",
    "print(function(5,6))"
   ]
  },
  {
   "cell_type": "code",
   "execution_count": 7,
   "metadata": {},
   "outputs": [
    {
     "name": "stdout",
     "output_type": "stream",
     "text": [
      "25\n",
      "9\n",
      "None\n"
     ]
    }
   ],
   "source": [
    "# 입력값만 존재하고, 출력 값은 존재하지 않는 형태 \n",
    "def function2(var1):\n",
    "    print(var1**2)\n",
    "    \n",
    "function2(5)\n",
    "\n",
    "print(function2(3))"
   ]
  },
  {
   "cell_type": "code",
   "execution_count": 8,
   "metadata": {},
   "outputs": [
    {
     "name": "stdout",
     "output_type": "stream",
     "text": [
      "입력값이 필요하지 않습니다!\n",
      "100\n"
     ]
    }
   ],
   "source": [
    "# 입력 값은 존재하지 않고, 출력값만 존재하는 형태 \n",
    "def function3(): \n",
    "    print(\"입력값이 필요하지 않습니다!\")\n",
    "    return 100 \n",
    "\n",
    "var = function3()\n",
    "\n",
    "print(var)"
   ]
  },
  {
   "cell_type": "code",
   "execution_count": 9,
   "metadata": {},
   "outputs": [
    {
     "name": "stdout",
     "output_type": "stream",
     "text": [
      "입력 값이 없고\n",
      "출력 값도 없습니다\n",
      "None\n"
     ]
    }
   ],
   "source": [
    "# 입력 값과 출력 값이 모두 존재하지 않는 형태 \n",
    "def function4():\n",
    "    print(\"입력 값이 없고\")\n",
    "    print(\"출력 값도 없습니다\")\n",
    "\n",
    "var = function4()\n",
    "\n",
    "print(var)"
   ]
  },
  {
   "cell_type": "code",
   "execution_count": 11,
   "metadata": {},
   "outputs": [
    {
     "name": "stdout",
     "output_type": "stream",
     "text": [
      "6\n",
      "11\n"
     ]
    }
   ],
   "source": [
    "# 함수를 사용하는 가장 큰 이유는, 반복된 연산등을 더 쉽게 처리하기 위함이다 \n",
    "# 하지만, 만약, 입력받은 숫자가 몇개가 될지 모를대는 어떻게 해야하는가? \n",
    "# 매개변수를 적는 위치에, *변수명 같은 형태로 적어주면 된다. \n",
    "\n",
    "# *args \n",
    "\n",
    "def input_sum(*numbers):\n",
    "    sum = 0\n",
    "    for number in numbers:\n",
    "        sum = sum + number \n",
    "    return sum \n",
    "\n",
    "print(input_sum(1, 2, 3))\n",
    "\n",
    "print(input_sum(1, 1, 1, 1, 1, 1, 1, 2, 2))\n",
    "\n",
    "# 매개 변수명 앞에 * 를 이용하면, 함수를 호출할때 다수의 입력 값을 인수로 \n",
    "# 전달해 줄수 있다. \n",
    "# 그리고, * 를 통해서 전달된 변수들은 iterable 객체로 받아서 처리가 가능하다. "
   ]
  },
  {
   "cell_type": "code",
   "execution_count": 16,
   "metadata": {},
   "outputs": [
    {
     "name": "stdout",
     "output_type": "stream",
     "text": [
      "65\n",
      "60\n"
     ]
    }
   ],
   "source": [
    "# 함수의 초기값 설정 \n",
    "# var2 와 var3 는 초기값이 정해져 있다. \n",
    "\n",
    "def default_var_function(var1, var2 = 10, var3 = 5): \n",
    "    result = var1 + var2 \n",
    "    result = result * var3 \n",
    "    return result \n",
    "\n",
    "print(default_var_function(3))\n",
    "print(default_var_function(3, 3, 10))"
   ]
  },
  {
   "cell_type": "code",
   "execution_count": 17,
   "metadata": {},
   "outputs": [],
   "source": [
    "# 클래스에 대하여.. \n",
    "# 클래스는, 함수와 변수를 묶어서 하나의 객체로 만들어 놓은 것이다. \n",
    "# 특정한 것들을 객체로 표현할수 있으며. 코드가 직관적이다. \n",
    "\n",
    "# 하나의 클래스는 다양한 함수를 지닐수 있고, \n",
    "# 클래스 내부의 함수들을 통해, 객체의 내부 멤버 변수 또한 존재한다. \n",
    "# 특정한 기능을 하는, __init__ 같은 함수도 존재한다. "
   ]
  },
  {
   "cell_type": "code",
   "execution_count": 22,
   "metadata": {},
   "outputs": [
    {
     "data": {
      "text/plain": [
       "63"
      ]
     },
     "execution_count": 22,
     "metadata": {},
     "output_type": "execute_result"
    }
   ],
   "source": [
    "# 사각형 객체를 만들어 내는 클래스 예시 \n",
    "class Square:\n",
    "    def setValue(self, underLine, height):\n",
    "        self.underLine = underLine\n",
    "        self.height = height\n",
    "    def getArea(self):\n",
    "        return self.underLine * self.height\n",
    "    \n",
    "square1 = Square()\n",
    "square1.setValue(10, 5)\n",
    "square1.getArea()\n",
    "\n",
    "square2 = Square()\n",
    "square2.setValue(7, 9)\n",
    "square2.getArea()"
   ]
  },
  {
   "cell_type": "code",
   "execution_count": 23,
   "metadata": {},
   "outputs": [
    {
     "data": {
      "text/plain": [
       "15"
      ]
     },
     "execution_count": 23,
     "metadata": {},
     "output_type": "execute_result"
    }
   ],
   "source": [
    "square3 = Square() \n",
    "Square.setValue(square3, 3, 5)\n",
    "Square.getArea(square3)"
   ]
  },
  {
   "cell_type": "code",
   "execution_count": 24,
   "metadata": {},
   "outputs": [],
   "source": [
    "# 클래스를 통해서 함수를 호출하고, 객체 정보를 입력해 주는것보다 \n",
    "# 직접 객체에서 함수를 호출하는것이 일반적이다. "
   ]
  },
  {
   "cell_type": "code",
   "execution_count": 28,
   "metadata": {},
   "outputs": [
    {
     "name": "stdout",
     "output_type": "stream",
     "text": [
      "__init__ 함수 실행!\n",
      "초기값, 10 로 설정!\n"
     ]
    },
    {
     "data": {
      "text/plain": [
       "30"
      ]
     },
     "execution_count": 28,
     "metadata": {},
     "output_type": "execute_result"
    }
   ],
   "source": [
    "# __init__ \n",
    "# __init__ 같은 함수는 매직 메서드라고 불리우며, 특별 메서드라고 불린다. \n",
    "# 언더스코어 _ 가 두개 붙어서, Double Underscore method 를 줄여서 \n",
    "# Dunder method 라고도 한다. \n",
    "# __init__ 함수는, 클래스에서 사용되는 함수로, 객체가 생성된 후에 \n",
    "#  자동으로 호출되는 함수이다. 즉, 우리가 객체를 생성함에 따라서, \n",
    "# 객체가 생성되었다는 알림을 해주면서, 객체 내부 멤버 변수의 초기값을 설정해 주고 싶다면, \n",
    "# 다음과 같이, __init__ 함수를 활용하면 된다. \n",
    "\n",
    "class Test:\n",
    "    def __init__(self):\n",
    "        print(\"__init__ 함수 실행!\")\n",
    "        self.value = 10 \n",
    "        print(\"초기값,\", self.value, \"로 설정!\")\n",
    "    def changeValue(self, value):\n",
    "        self.value = value \n",
    "        \n",
    "test1 = Test()\n",
    "test1.value\n",
    "test1.changeValue(30)\n",
    "test1.value"
   ]
  },
  {
   "cell_type": "code",
   "execution_count": 29,
   "metadata": {},
   "outputs": [],
   "source": [
    "# __init__ 함수는 호출하지 않아도 자동으로 호출되는것을 확인할수 있다. "
   ]
  },
  {
   "cell_type": "code",
   "execution_count": 30,
   "metadata": {},
   "outputs": [],
   "source": [
    "# Account 클래스는 객체가 생성될때, 인수로 전달한 name 을 멤버 변수의 name 으로 \n",
    "# 설정하며, 멤버 변수로 money 를 10000 으로 가진다. \n",
    "\n",
    "class Account:\n",
    "    def __init__(self, name):\n",
    "        print(\"[init start] 객체가 생성됩니다.\")\n",
    "        self.name = name \n",
    "        self.money = 10000 \n",
    "        print(\"[init end] 객체가 생성되었습니다.\")\n",
    "    \n",
    "    def deposit(self, money):\n",
    "        print(\"[deposit start] 돈을 저축합니다.\")\n",
    "        self.money += money \n",
    "        print(\"[deposit end] 돈을 저축하였습니다\")\n",
    "        \n",
    "    def withdraw(self, money):\n",
    "        print(\"[withdrawal start] 돈을 인출합니다\")\n",
    "        self.money -= money\n",
    "        print(\"[witdhrawal end] 인출이 끝났습니다\")\n",
    "        return money \n",
    "    \n",
    "    def printBalance(self):\n",
    "        print(\"[printBalance start] 잔고를 출력합니다.\")\n",
    "        print(\"잔고:\", self.money)\n",
    "        print(\"[printBalance end] 잔고를 출력했습니다.\")\n",
    "        return self.money \n",
    "    \n",
    "    def printOwner(self):\n",
    "        print(\"[printOwner start] 소유자를 출력합니다.\")\n",
    "        print(\"소유자:\", self.name)\n",
    "        print(\"[printOwner end] 소유자를 출력했습니다.\")\n",
    "        return self.name "
   ]
  },
  {
   "cell_type": "code",
   "execution_count": 31,
   "metadata": {},
   "outputs": [
    {
     "name": "stdout",
     "output_type": "stream",
     "text": [
      "[init start] 객체가 생성됩니다.\n",
      "[init end] 객체가 생성되었습니다.\n"
     ]
    }
   ],
   "source": [
    "account1 = Account(\"장고\")"
   ]
  },
  {
   "cell_type": "code",
   "execution_count": 32,
   "metadata": {},
   "outputs": [
    {
     "name": "stdout",
     "output_type": "stream",
     "text": [
      "[deposit start] 돈을 저축합니다.\n",
      "[deposit end] 돈을 저축하였습니다\n"
     ]
    }
   ],
   "source": [
    "account1.deposit(50000)"
   ]
  },
  {
   "cell_type": "code",
   "execution_count": 33,
   "metadata": {},
   "outputs": [
    {
     "name": "stdout",
     "output_type": "stream",
     "text": [
      "[withdrawal start] 돈을 인출합니다\n",
      "[witdhrawal end] 인출이 끝났습니다\n"
     ]
    }
   ],
   "source": [
    "m = account1.withdraw(25000)"
   ]
  },
  {
   "cell_type": "code",
   "execution_count": 34,
   "metadata": {},
   "outputs": [
    {
     "name": "stdout",
     "output_type": "stream",
     "text": [
      "[printBalance start] 잔고를 출력합니다.\n",
      "잔고: 35000\n",
      "[printBalance end] 잔고를 출력했습니다.\n"
     ]
    }
   ],
   "source": [
    "b = account1.printBalance()"
   ]
  },
  {
   "cell_type": "code",
   "execution_count": 36,
   "metadata": {},
   "outputs": [
    {
     "name": "stdout",
     "output_type": "stream",
     "text": [
      "[printOwner start] 소유자를 출력합니다.\n",
      "소유자: 장고\n",
      "[printOwner end] 소유자를 출력했습니다.\n"
     ]
    }
   ],
   "source": [
    "o = account1.printOwner()"
   ]
  },
  {
   "cell_type": "code",
   "execution_count": null,
   "metadata": {},
   "outputs": [],
   "source": []
  }
 ],
 "metadata": {
  "kernelspec": {
   "display_name": "Python 3",
   "language": "python",
   "name": "python3"
  },
  "language_info": {
   "codemirror_mode": {
    "name": "ipython",
    "version": 3
   },
   "file_extension": ".py",
   "mimetype": "text/x-python",
   "name": "python",
   "nbconvert_exporter": "python",
   "pygments_lexer": "ipython3",
   "version": "3.7.4"
  }
 },
 "nbformat": 4,
 "nbformat_minor": 2
}
